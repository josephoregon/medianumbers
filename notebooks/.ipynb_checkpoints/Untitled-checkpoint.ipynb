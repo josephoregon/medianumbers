{
 "cells": [
  {
   "cell_type": "code",
   "execution_count": null,
   "id": "general-module",
   "metadata": {},
   "outputs": [],
   "source": []
  },
  {
   "cell_type": "code",
   "execution_count": null,
   "id": "offensive-indie",
   "metadata": {},
   "outputs": [],
   "source": []
  },
  {
   "cell_type": "code",
   "execution_count": null,
   "id": "neither-pixel",
   "metadata": {},
   "outputs": [],
   "source": [
    "Kansas Governor Bill Graves\n",
    "Former State SenatorLt. Governor and U.S. Senator Sheila Frahm\n",
    "Lt. Gov. Gary Sherrer\n",
    "Insurance Commissioner Sandy Praeger\n",
    "Senate President Dick Bond\n",
    "Senate President Dave Kerr\n",
    "Senate Vice President John Vratil\n",
    "\n",
    "Senate Majority Leaders Tim Emert and Lana Oleen\n",
    "\n",
    "Senators Barbara Allen\n",
    "David Wysong\n",
    "Wint Winter, Jr.\n",
    "Pete Brungardt\n",
    "Ruth Teichman\n",
    "Barbara Bollier\n",
    "Audrey Langworthy\n",
    "Terrie Huntington\n",
    "Bob VanCrumand \n",
    "Alicia Salisbur\n",
    "\n",
    "Representatives JoAnn Pottorff\n",
    "Ginger Barr\n",
    "Jim Yonally\n",
    "Jim Lowther\n",
    "Fred Lorentzand \n",
    "\n",
    "Representative and Republican Party Chairperson Rochelle Chronister\n",
    "\n",
    "Republican National Delegate Don Johnston; and \n",
    "Representatives Joy Koesten and Charles Roth."
   ]
  },
  {
   "cell_type": "code",
   "execution_count": null,
   "id": "effective-complexity",
   "metadata": {},
   "outputs": [],
   "source": []
  },
  {
   "cell_type": "code",
   "execution_count": null,
   "id": "competent-processor",
   "metadata": {},
   "outputs": [],
   "source": []
  }
 ],
 "metadata": {
  "kernelspec": {
   "display_name": "Python 3",
   "language": "python",
   "name": "python3"
  },
  "language_info": {
   "codemirror_mode": {
    "name": "ipython",
    "version": 3
   },
   "file_extension": ".py",
   "mimetype": "text/x-python",
   "name": "python",
   "nbconvert_exporter": "python",
   "pygments_lexer": "ipython3",
   "version": "3.8.8"
  }
 },
 "nbformat": 4,
 "nbformat_minor": 5
}
