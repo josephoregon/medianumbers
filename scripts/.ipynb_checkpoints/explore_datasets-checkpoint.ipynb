{
 "cells": [
  {
   "cell_type": "code",
   "execution_count": 1,
   "id": "statutory-amount",
   "metadata": {
    "ExecuteTime": {
     "end_time": "2021-04-04T19:21:29.789242Z",
     "start_time": "2021-04-04T19:21:28.442082Z"
    }
   },
   "outputs": [],
   "source": [
    "# Import Packages\n",
    "import streamlit as st\n",
    "import pyperclip\n",
    "import heapq\n",
    "import nltk\n",
    "import re\n",
    "\n",
    "from newspaper import Article"
   ]
  },
  {
   "cell_type": "code",
   "execution_count": null,
   "id": "going-mainstream",
   "metadata": {
    "ExecuteTime": {
     "end_time": "2021-04-04T00:21:16.773984Z",
     "start_time": "2021-04-04T00:21:16.478570Z"
    }
   },
   "outputs": [],
   "source": [
    "# Pull Article Information\n",
    "\n",
    "url = pyperclip.paste()"
   ]
  },
  {
   "cell_type": "code",
   "execution_count": null,
   "id": "rolled-suite",
   "metadata": {
    "ExecuteTime": {
     "end_time": "2021-04-04T06:58:17.738186Z",
     "start_time": "2021-04-04T06:58:17.242138Z"
    }
   },
   "outputs": [],
   "source": [
    "article = Article(url)\n",
    "article.download()\n",
    "article.parse()\n",
    "article.nlp()"
   ]
  },
  {
   "cell_type": "code",
   "execution_count": null,
   "id": "hollow-massage",
   "metadata": {
    "ExecuteTime": {
     "end_time": "2021-04-04T06:58:18.948782Z",
     "start_time": "2021-04-04T06:58:18.946297Z"
    }
   },
   "outputs": [],
   "source": [
    "article_title = article.title\n",
    "print(article_title)"
   ]
  },
  {
   "cell_type": "code",
   "execution_count": null,
   "id": "verbal-procurement",
   "metadata": {
    "ExecuteTime": {
     "end_time": "2021-04-04T07:39:52.002752Z",
     "start_time": "2021-04-04T07:39:51.998559Z"
    }
   },
   "outputs": [],
   "source": [
    "source_url = article.url\n",
    "print(source_url)"
   ]
  },
  {
   "cell_type": "code",
   "execution_count": null,
   "id": "driving-adams",
   "metadata": {
    "ExecuteTime": {
     "end_time": "2021-04-04T06:59:10.744943Z",
     "start_time": "2021-04-04T06:59:10.741893Z"
    }
   },
   "outputs": [],
   "source": [
    "article_summary = article.summary\n",
    "print(article_summary)"
   ]
  },
  {
   "cell_type": "code",
   "execution_count": null,
   "id": "naval-walker",
   "metadata": {
    "ExecuteTime": {
     "end_time": "2021-04-04T06:59:04.670678Z",
     "start_time": "2021-04-04T06:59:04.667932Z"
    }
   },
   "outputs": [],
   "source": [
    "# Removing Square Brackets and Extra Spaces\n",
    "article_text = re.sub(r'\\[[0-9]*\\]', ' ', article_summary)\n",
    "print(article_text)"
   ]
  },
  {
   "cell_type": "code",
   "execution_count": null,
   "id": "young-miller",
   "metadata": {
    "ExecuteTime": {
     "end_time": "2021-04-04T06:59:15.637597Z",
     "start_time": "2021-04-04T06:59:15.634517Z"
    }
   },
   "outputs": [],
   "source": [
    "article_text = re.sub(r'\\s+', ' ', article_summary)\n",
    "print(article_text)"
   ]
  },
  {
   "cell_type": "code",
   "execution_count": null,
   "id": "likely-living",
   "metadata": {
    "ExecuteTime": {
     "end_time": "2021-04-04T06:52:35.730563Z",
     "start_time": "2021-04-04T06:52:35.728290Z"
    }
   },
   "outputs": [],
   "source": [
    "# Removing special characters and digits\n",
    "#formatted_article_text = re.sub('[^a-zA-Z]', ' ', article_text)\n",
    "#print(formatted_article_text)"
   ]
  },
  {
   "cell_type": "code",
   "execution_count": null,
   "id": "maritime-primary",
   "metadata": {
    "ExecuteTime": {
     "end_time": "2021-04-04T06:52:52.716515Z",
     "start_time": "2021-04-04T06:52:52.714404Z"
    }
   },
   "outputs": [],
   "source": [
    "#formatted_article_text = re.sub(r'\\s+', ' ', formatted_article_text)\n",
    "#print(formatted_article_text)"
   ]
  },
  {
   "cell_type": "code",
   "execution_count": null,
   "id": "increased-hunter",
   "metadata": {
    "ExecuteTime": {
     "end_time": "2021-04-04T06:59:22.824514Z",
     "start_time": "2021-04-04T06:59:22.821032Z"
    }
   },
   "outputs": [],
   "source": [
    "sentence_list = nltk.sent_tokenize(article_text)\n",
    "print(sentence_list)"
   ]
  },
  {
   "cell_type": "code",
   "execution_count": null,
   "id": "fourth-intervention",
   "metadata": {
    "ExecuteTime": {
     "end_time": "2021-04-04T06:59:33.809143Z",
     "start_time": "2021-04-04T06:59:33.805330Z"
    }
   },
   "outputs": [],
   "source": [
    "len(sentence_list)"
   ]
  },
  {
   "cell_type": "code",
   "execution_count": null,
   "id": "fitted-means",
   "metadata": {
    "ExecuteTime": {
     "end_time": "2021-04-04T06:59:46.353889Z",
     "start_time": "2021-04-04T06:59:46.341393Z"
    }
   },
   "outputs": [],
   "source": [
    "stopwords = nltk.corpus.stopwords.words('english')\n",
    "print(stopwords)"
   ]
  },
  {
   "cell_type": "code",
   "execution_count": null,
   "id": "wanted-istanbul",
   "metadata": {
    "ExecuteTime": {
     "end_time": "2021-04-04T07:00:29.428507Z",
     "start_time": "2021-04-04T07:00:29.423873Z"
    }
   },
   "outputs": [],
   "source": [
    "word_frequencies = {}\n",
    "for word in nltk.word_tokenize(article_text):\n",
    "    if len(word) >= 7:\n",
    "        if word not in stopwords:\n",
    "            if word not in word_frequencies.keys():\n",
    "                word_frequencies[word] = 1\n",
    "            else:\n",
    "                word_frequencies[word] += 1\n",
    "                \n",
    "print(word_frequencies)"
   ]
  },
  {
   "cell_type": "code",
   "execution_count": null,
   "id": "hydraulic-tobacco",
   "metadata": {
    "ExecuteTime": {
     "end_time": "2021-04-04T07:00:37.407091Z",
     "start_time": "2021-04-04T07:00:37.404530Z"
    }
   },
   "outputs": [],
   "source": [
    "sorted_values = sorted(word_frequencies.values(), reverse=True)  # Sort the values\n",
    "\n",
    "print(sorted_values)"
   ]
  },
  {
   "cell_type": "code",
   "execution_count": null,
   "id": "pregnant-sphere",
   "metadata": {
    "ExecuteTime": {
     "end_time": "2021-04-04T07:00:41.789440Z",
     "start_time": "2021-04-04T07:00:41.785794Z"
    }
   },
   "outputs": [],
   "source": [
    "sorted_dict = {}\n",
    "\n",
    "for i in sorted_values:\n",
    "    for k in word_frequencies.keys():\n",
    "        if word_frequencies[k] == i:\n",
    "            sorted_dict[k] = word_frequencies[k]\n",
    "            break\n",
    "            \n",
    "print(sorted_dict)"
   ]
  },
  {
   "cell_type": "code",
   "execution_count": null,
   "id": "adjacent-condition",
   "metadata": {
    "ExecuteTime": {
     "end_time": "2021-04-04T07:00:49.428850Z",
     "start_time": "2021-04-04T07:00:49.426467Z"
    }
   },
   "outputs": [],
   "source": [
    "sorted_list = list(sorted_dict.keys())\n",
    "print(sorted_list)"
   ]
  },
  {
   "cell_type": "code",
   "execution_count": null,
   "id": "mounted-darwin",
   "metadata": {
    "ExecuteTime": {
     "end_time": "2021-04-04T07:00:53.569112Z",
     "start_time": "2021-04-04T07:00:53.566612Z"
    }
   },
   "outputs": [],
   "source": [
    "maximum_freq = max(word_frequencies.values())\n",
    "print(maximum_freq)"
   ]
  },
  {
   "cell_type": "code",
   "execution_count": null,
   "id": "vulnerable-start",
   "metadata": {
    "ExecuteTime": {
     "end_time": "2021-04-04T07:00:56.776250Z",
     "start_time": "2021-04-04T07:00:56.773617Z"
    }
   },
   "outputs": [],
   "source": [
    "for word in word_frequencies.keys():\n",
    "    word_frequencies[word] = (word_frequencies[word] / maximum_freq)\n",
    "    \n",
    "print(word_frequencies)"
   ]
  },
  {
   "cell_type": "code",
   "execution_count": null,
   "id": "hungry-provincial",
   "metadata": {
    "ExecuteTime": {
     "end_time": "2021-04-04T07:01:02.896363Z",
     "start_time": "2021-04-04T07:01:02.891960Z"
    }
   },
   "outputs": [],
   "source": [
    "sentence_scores = {}\n",
    "\n",
    "for sent in sentence_list:\n",
    "    for word in nltk.word_tokenize(sent.lower()):\n",
    "        if word in word_frequencies.keys():\n",
    "            if len(sent.split(' ')) < 30:\n",
    "                if sent not in sentence_scores.keys():\n",
    "                    sentence_scores[sent] = word_frequencies[word]\n",
    "                else:\n",
    "                    sentence_scores[sent] += word_frequencies[word]\n",
    "                    \n",
    "print(sentence_scores)"
   ]
  },
  {
   "cell_type": "code",
   "execution_count": null,
   "id": "heated-photography",
   "metadata": {
    "ExecuteTime": {
     "end_time": "2021-04-04T07:01:16.145813Z",
     "start_time": "2021-04-04T07:01:16.143154Z"
    }
   },
   "outputs": [],
   "source": [
    "summary_sentences = heapq.nlargest(7, sentence_scores, key=sentence_scores.get)\n",
    "\n",
    "print(sentence_scores)"
   ]
  },
  {
   "cell_type": "code",
   "execution_count": null,
   "id": "exact-bridges",
   "metadata": {
    "ExecuteTime": {
     "end_time": "2021-04-04T07:01:42.586863Z",
     "start_time": "2021-04-04T07:01:42.584474Z"
    }
   },
   "outputs": [],
   "source": [
    "summary = ' '.join(summary_sentences)\n",
    "\n",
    "print(summary)"
   ]
  },
  {
   "cell_type": "code",
   "execution_count": null,
   "id": "destroyed-field",
   "metadata": {
    "ExecuteTime": {
     "end_time": "2021-04-04T07:01:52.171201Z",
     "start_time": "2021-04-04T07:01:52.168006Z"
    }
   },
   "outputs": [],
   "source": [
    "if 'BREAKING' in article_title:\n",
    "    default_text = '''\n",
    "🚨 {}\n",
    "\n",
    "🔑 SUMMARY: {}\n",
    "\n",
    "🔗 {}\n",
    "            '''.format(article_title, summary, source_url)\n",
    "else:\n",
    "    default_text = '''\n",
    "📰 {}\n",
    "\n",
    "🔑 SUMMARY: {}\n",
    "\n",
    "🔗 {}\n",
    "            '''.format(article_title, summary, source_url)\n",
    "    \n",
    "print(default_text)"
   ]
  },
  {
   "cell_type": "code",
   "execution_count": null,
   "id": "uniform-chicken",
   "metadata": {},
   "outputs": [],
   "source": []
  },
  {
   "cell_type": "code",
   "execution_count": null,
   "id": "indoor-angola",
   "metadata": {},
   "outputs": [],
   "source": []
  },
  {
   "cell_type": "code",
   "execution_count": null,
   "id": "eleven-warehouse",
   "metadata": {},
   "outputs": [],
   "source": []
  },
  {
   "cell_type": "code",
   "execution_count": null,
   "id": "accessory-triangle",
   "metadata": {},
   "outputs": [],
   "source": []
  },
  {
   "cell_type": "markdown",
   "id": "functional-movement",
   "metadata": {},
   "source": [
    "<hr>\n",
    "<hr>\n",
    "<hr>\n",
    "<hr>\n",
    "<hr>\n",
    "<hr>"
   ]
  },
  {
   "cell_type": "code",
   "execution_count": 4,
   "id": "eight-gibson",
   "metadata": {
    "ExecuteTime": {
     "end_time": "2021-04-05T02:31:47.048813Z",
     "start_time": "2021-04-05T02:30:58.592283Z"
    },
    "scrolled": true
   },
   "outputs": [
    {
     "name": "stdout",
     "output_type": "stream",
     "text": [
      "/Users/josephrosas/PycharmProjects/media-numbers\n",
      "Downloading articles from cnn\n",
      "1 articles downloaded from cnn, url: http://rss.cnn.com/~r/rss/cnn_topstories/~3/TuDCgYIsuPs/index.html\n",
      "2 articles downloaded from cnn, url: http://rss.cnn.com/~r/rss/cnn_topstories/~3/N_L96P9FN6w/index.html\n",
      "3 articles downloaded from cnn, url: http://rss.cnn.com/~r/rss/cnn_topstories/~3/tLSkbnnMqF0/index.html\n",
      "4 articles downloaded from cnn, url: http://rss.cnn.com/~r/rss/cnn_topstories/~3/GTVF5pnSN2A/will-chauvin-trial-result-in-conviction.cnn\n",
      "5 articles downloaded from cnn, url: http://rss.cnn.com/~r/rss/cnn_topstories/~3/EMKjn1tkJPo/index.html\n",
      "Downloading articles from nyt\n",
      "1 articles downloaded from nyt, url: https://www.nytimes.com/2021/04/04/us/politics/guantanamo-bay-prisoners.html\n",
      "2 articles downloaded from nyt, url: https://www.nytimes.com/2021/04/04/us/politics/biden-hunger-programs.html\n",
      "3 articles downloaded from nyt, url: https://www.nytimes.com/2021/04/04/us/politics/domestic-terrorism-biden.html\n",
      "4 articles downloaded from nyt, url: https://www.nytimes.com/2021/04/03/us/politics/emergent-vaccine-plant-johnson-johnson.html\n",
      "5 articles downloaded from nyt, url: https://www.nytimes.com/2021/04/03/us/politics/capitol-suspect-noah-green.html\n",
      "Downloading articles from politicus_usa\n",
      "1 articles downloaded from politicus_usa, url: https://www.politicususa.com/2021/04/04/republican-math-fail-infrastructure.html?utm_source=rss&utm_medium=rss&utm_campaign=republican-math-fail-infrastructure\n",
      "2 articles downloaded from politicus_usa, url: https://www.politicususa.com/2021/04/04/michigan-confront-right-wing-extremeists.html?utm_source=rss&utm_medium=rss&utm_campaign=michigan-confront-right-wing-extremeists\n",
      "3 articles downloaded from politicus_usa, url: https://www.politicususa.com/2021/04/04/trump-scam-64-million.html?utm_source=rss&utm_medium=rss&utm_campaign=trump-scam-64-million\n",
      "4 articles downloaded from politicus_usa, url: https://www.politicususa.com/2021/04/04/ted-lieu-mike-huckabee.html?utm_source=rss&utm_medium=rss&utm_campaign=ted-lieu-mike-huckabee\n",
      "5 articles downloaded from politicus_usa, url: https://www.politicususa.com/2021/04/04/pete-buttigieg-republicans-water.html?utm_source=rss&utm_medium=rss&utm_campaign=pete-buttigieg-republicans-water\n",
      "Downloading articles from fox\n",
      "1 articles downloaded from fox, url: http://feeds.foxnews.com/~r/foxnews/politics/~3/kzQAWLzz-W8/biden-in-easter-message-calls-getting-vaccine-a-moral-obligation\n",
      "2 articles downloaded from fox, url: http://feeds.foxnews.com/~r/foxnews/politics/~3/GCk5M7YXKWg/chris-chistie-stacey-abrams-georgia\n",
      "3 articles downloaded from fox, url: http://feeds.foxnews.com/~r/foxnews/politics/~3/fhy-9FZB3L0/texas-ag-paxton-public-charge-rule-immigrants-public-assistance\n",
      "4 articles downloaded from fox, url: http://feeds.foxnews.com/~r/foxnews/politics/~3/tBb95lLlgeA/georgia-voting-law-read-full-text\n",
      "5 articles downloaded from fox, url: http://feeds.foxnews.com/~r/foxnews/politics/~3/30BHcpLfuSI/ilhan-omar-breaks-with-stacey-abrams-over-georgia-boycotts\n",
      "Downloading articles from epoch\n",
      "1 articles downloaded from epoch, url: https://www.theepochtimes.com/delta-cancels-over-100-flights-opens-some-middle-seats_3762053.html\n",
      "2 articles downloaded from epoch, url: https://www.theepochtimes.com/tesla-files-a-petition-against-us-labor-board-order_3761228.html\n",
      "3 articles downloaded from epoch, url: https://www.theepochtimes.com/us-shuts-once-secret-guantanamo-prison-unit-moves-prisoners_3761919.html\n",
      "4 articles downloaded from epoch, url: https://www.theepochtimes.com/new-staff-deploy-to-border-processing-facilities-as-crisis-worsens_3761795.html\n",
      "5 articles downloaded from epoch, url: https://www.theepochtimes.com/study-cites-childhood-tumor-risk-for-pesticide-exposure-during-pregnancy_3762007.html\n",
      "Downloading articles from blaze\n",
      "1 articles downloaded from blaze, url: https://www.theblaze.com/news/warnock-easter-salvation-heresy-twitter\n",
      "2 articles downloaded from blaze, url: https://www.theblaze.com/news/dean-obeidallah-trump-terrorism\n",
      "3 articles downloaded from blaze, url: https://www.theblaze.com/news/former-president-donald-trump-shreds-cancel-culture-encourages-supporters-republicans-to-boycott-woke-companies\n",
      "4 articles downloaded from blaze, url: https://www.theblaze.com/news/trump-easter-crazies-radical-left\n",
      "5 articles downloaded from blaze, url: https://www.theblaze.com/shows/glenn-beck-podcast/dallas-jenkins-the-chosen-\n",
      "Downloading articles from tgp\n",
      "1 articles downloaded from tgp, url: https://trendingpolitics.com/new-report-biden-administration-busing-thousands-of-illegals-aliens-to-red-states-to-get-permanent-status-knab/?utm_source=rss&utm_medium=rss&utm_campaign=new-report-biden-administration-busing-thousands-of-illegals-aliens-to-red-states-to-get-permanent-status-knab\n",
      "2 articles downloaded from tgp, url: https://trendingpolitics.com/trump-releases-laugh-out-loud-easter-message-trolls-democrats/?utm_source=rss&utm_medium=rss&utm_campaign=trump-releases-laugh-out-loud-easter-message-trolls-democrats\n",
      "3 articles downloaded from tgp, url: https://trendingpolitics.com/donald-trump-and-joe-bidens-easter-messages-reveal-everything-you-need-to-know-about-the-presidents-knab/?utm_source=rss&utm_medium=rss&utm_campaign=donald-trump-and-joe-bidens-easter-messages-reveal-everything-you-need-to-know-about-the-presidents-knab\n",
      "4 articles downloaded from tgp, url: https://trendingpolitics.com/charles-barkley-blames-politicians-for-stoking-racial-division-to-keep-their-grasp-of-money-and-power-knab/?utm_source=rss&utm_medium=rss&utm_campaign=charles-barkley-blames-politicians-for-stoking-racial-division-to-keep-their-grasp-of-money-and-power-knab\n",
      "5 articles downloaded from tgp, url: https://trendingpolitics.com/new-data-youtube-has-been-scrubbing-millions-of-dislikes-from-bidens-videos-knab/?utm_source=rss&utm_medium=rss&utm_campaign=new-data-youtube-has-been-scrubbing-millions-of-dislikes-from-bidens-videos-knab\n",
      "Downloading articles from trend\n",
      "1 articles downloaded from trend, url: https://www.thegatewaypundit.com/2021/04/president-trump-family-receives-standing-ovation-mar-lago-easter-weekend-video/\n",
      "2 articles downloaded from trend, url: https://www.thegatewaypundit.com/2021/04/task-force-pictures-hate-crime-suspects-behind-series-violent-attacks-asian-americans/\n",
      "3 articles downloaded from trend, url: https://www.thegatewaypundit.com/2021/04/national-assistance-minister-defense-brother-aj-not-brandishes-guns-georgia-capital-also-stacy-abrams-fan/\n",
      "4 articles downloaded from trend, url: https://www.thegatewaypundit.com/2021/04/frauds-mlb-boycotted-georgia-allstar-game-day-expanding-deal-communist-chinese/\n",
      "5 articles downloaded from trend, url: https://www.thegatewaypundit.com/2021/04/cnn-talking-potato-brian-stelter-jim-acosta-spend-easter-sunday-discussing-post-trump-stress-disorder-video/\n",
      "Building site for cdm\n",
      "1 articles downloaded from cdm using newspaper, url: https://creativedestructionmedia.com/news/europe/2021/04/04/salvini-hits-back-against-leftist-criticism-over-meeting-with-orban/\n",
      "2 articles downloaded from cdm using newspaper, url: https://creativedestructionmedia.com/news/politics/2021/04/04/ga-sos-raffensperger-files-legal-brief-to-prevent-real-audit-of-ballots-from-2020-election/\n",
      "3 articles downloaded from cdm using newspaper, url: https://creativedestructionmedia.com/news/middle-east/2021/04/04/the-us-congress-reacts-to-irans-social-dilemma-and-the-nuclear-deal/\n",
      "4 articles downloaded from cdm using newspaper, url: https://creativedestructionmedia.com/news/business/2021/04/04/gab-ceo-andrew-torba-facebook-is-developing-mind-control-technology-using-your-data/\n",
      "5 articles downloaded from cdm using newspaper, url: https://creativedestructionmedia.com/news/politics/2021/04/04/war-room-pandemic-saturday-show-recap-4-3/\n",
      "Downloading articles from fte\n",
      "1 articles downloaded from fte, url: https://fivethirtyeight.com/features/americans-oppose-many-voting-restrictions-but-not-voter-id-laws/\n",
      "2 articles downloaded from fte, url: https://fivethirtyeight.com/videos/the-2021-elections-that-will-show-us-where-the-parties-are-headed/\n",
      "3 articles downloaded from fte, url: https://fivethirtyeight.com/features/politics-podcast-elections-to-watch-in-2021/\n"
     ]
    },
    {
     "name": "stdout",
     "output_type": "stream",
     "text": [
      "4 articles downloaded from fte, url: https://fivethirtyeight.com/features/why-the-recent-violence-against-asian-americans-may-solidify-their-support-of-democrats/\n",
      "5 articles downloaded from fte, url: https://fivethirtyeight.com/features/why-democrats-werent-going-to-reverse-the-result-in-iowa/\n",
      "Downloading articles from wayne\n",
      "1 articles downloaded from wayne, url: https://www.waynedupree.com/2021/04/joe-biden-ga-county-all-star/\n",
      "2 articles downloaded from wayne, url: https://www.waynedupree.com/2021/04/hunter-joe-smartest-man-parm/\n",
      "3 articles downloaded from wayne, url: https://www.waynedupree.com/2021/04/trump-easter-statement-twitter/\n",
      "4 articles downloaded from wayne, url: https://www.waynedupree.com/2021/04/chris-christi-ga-vote-abc/\n",
      "5 articles downloaded from wayne, url: https://www.waynedupree.com/2021/04/meghan-royals-wont-speak/\n",
      "Downloading articles from tnr\n",
      "1 articles downloaded from tnr, url: https://www.nationalreview.com/corner/exclusive-republicans-claim-biden-is-facilitating-chinas-violations-of-iran-sanctions/\n",
      "2 articles downloaded from tnr, url: https://www.nationalreview.com/corner/a-stray-thought-on-the-2020-election/\n",
      "3 articles downloaded from tnr, url: https://www.nationalreview.com/corner/vermont-thumbs-its-nose-at-the-constitution/\n",
      "4 articles downloaded from tnr, url: https://www.nationalreview.com/corner/major-league-baseballs-cowardly-stand/\n",
      "5 articles downloaded from tnr, url: https://www.nationalreview.com/corner/arent-you-forgetting-someone-or-two-or-three-or/\n",
      "Downloading articles from trs\n",
      "1 articles downloaded from trs, url: https://therightscoop.com/must-watch-chris-christie-and-sarah-isgur-utterly-end-biden-dems-media-over-georgia-voting-law-with-facts-receipts/\n",
      "2 articles downloaded from trs, url: https://therightscoop.com/cbs-news-keeps-going-further-this-time-a-softball-hunter-biden-interview-that-suggests-laptop-scandal-a-rumor/\n",
      "3 articles downloaded from trs, url: https://therightscoop.com/just-a-day-after-performative-wokeness-in-georgia-mlb-inks-major-deal-in-commie-china-with-anti-democracy-firm/\n",
      "4 articles downloaded from trs, url: https://therightscoop.com/gestapo-is-not-allowed-here-this-pastor-righteously-commands-covid-cops-get-thee-out-of-his-church/\n",
      "5 articles downloaded from trs, url: https://therightscoop.com/heaven-rejoices-jesus-has-risen/\n",
      "Downloading articles from rds\n",
      "1 articles downloaded from rds, url: https://redstate.com/bonchie/2021/04/04/i-dont-normally-write-on-brian-stelter-but-this-warrants-an-exception-n355476\n",
      "2 articles downloaded from rds, url: https://redstate.com/bonchie/2021/04/04/a-reporter-goes-to-the-movies-post-covid-and-its-the-most-beta-thing-ive-ever-seen-n355438\n",
      "3 articles downloaded from rds, url: https://redstate.com/nick-arama/2021/04/04/jim-acosta-complains-about-post-trump-stress-disorder-to-brian-stelter-then-really-goes-over-the-slide-n355399\n",
      "4 articles downloaded from rds, url: https://redstate.com/bonchie/2021/04/04/a-biden-advisor-is-asked-about-the-mlb-boycott-of-georgia-her-response-is-mind-boggling-n355393\n",
      "5 articles downloaded from rds, url: https://redstate.com/nick-arama/2021/04/04/sure-looks-like-msnbc-is-being-racist-with-their-latest-remarks-on-virus-variant-n355340\n",
      "Downloading articles from hotair\n",
      "1 articles downloaded from hotair, url: https://hotair.com/archives/allahpundit/2021/04/04/sunday-morning-talking-heads-256/\n",
      "2 articles downloaded from hotair, url: https://hotair.com/archives/ed-morrissey/2021/04/04/roll-away-stone-happy-blessed-easter-readers/\n",
      "3 articles downloaded from hotair, url: https://hotair.com/archives/karen-townsend/2021/04/03/woke-battle-brews-pbs-one-white-male-filmmaker-get-support/\n",
      "4 articles downloaded from hotair, url: https://hotair.com/archives/jazz-shaw/2021/04/03/new-liberal-line-biden-afraid-looking-soft-illegal-immigration/\n",
      "5 articles downloaded from hotair, url: https://hotair.com/archives/allahpundit/2021/04/03/texas-sees-lowest-daily-average-covid-cases-since-last-june-three-weeks-mask-mandate-lifted/\n"
     ]
    }
   ],
   "source": [
    "%cd '/Users/josephrosas/PycharmProjects/media-numbers'\n",
    "\n",
    "! python newsscraper.py NewsPapers.json"
   ]
  },
  {
   "cell_type": "code",
   "execution_count": 13,
   "id": "motivated-baseball",
   "metadata": {
    "ExecuteTime": {
     "end_time": "2021-04-05T02:40:26.663448Z",
     "start_time": "2021-04-05T02:40:26.654903Z"
    }
   },
   "outputs": [],
   "source": [
    "import json\n",
    "import jmespath\n",
    "import pandas as pd\n",
    "import pyperclip\n",
    "import heapq\n",
    "import nltk\n",
    "import re\n",
    "\n",
    "from glom import glom\n",
    "from ast import literal_eval\n",
    "from pandas import json_normalize\n",
    "from newspaper import Article\n",
    "\n",
    "\n",
    "def f2(json):\n",
    "    df = pd.DataFrame(json)\n",
    "    df = df.iloc[:, 2:].copy()\n",
    "    df = pd.concat([pd.DataFrame(json_normalize(x)) for x in df['articles']],\n",
    "                   ignore_index=True)\n",
    "    return df\n",
    "\n",
    "# Load json format data\n",
    "with open('scraped_articles.json', 'r') as f:\n",
    "    data = json.loads(f.read())\n",
    "\n",
    "recs = data['newspapers']"
   ]
  },
  {
   "cell_type": "code",
   "execution_count": 14,
   "id": "comfortable-arctic",
   "metadata": {
    "ExecuteTime": {
     "end_time": "2021-04-05T02:40:27.030937Z",
     "start_time": "2021-04-05T02:40:26.946915Z"
    },
    "scrolled": true
   },
   "outputs": [],
   "source": [
    "cnn_df = f2(recs['cnn']) # CNN\n",
    "fox_df = f2(recs['fox']) # Fox News\n",
    "trs_df = f2(recs['trs']) # The Right Scoop\n",
    "epoch_df = f2(recs['epoch']) # The Epoch Times\n",
    "blaze_df = f2(recs['blaze']) # BlazeTV\n",
    "tgp_df = f2(recs['tgp']) # The Gateway Pundit\n",
    "trend_df = f2(recs['trend']) # Trending Politics\n",
    "wayne_df = f2(recs['wayne']) # Wayne Dupree\n",
    "tnr_df = f2(recs['tnr']) # The National Review\n",
    "fte_df = f2(recs['fte']) # FiveThirtyEight\n",
    "hotair_df = f2(recs['hotair']) # Hot Air\n",
    "rds_df = f2(recs['rds']) # Red State\n",
    "nyt_df = f2(recs['nyt']) # Red State\n",
    "politicus_usa_df = f2(recs['politicus_usa']) # Red State\n",
    "\n",
    "#cdm_json = recs['cdm']\n",
    "#cdm_df = f2(cdm_json)"
   ]
  },
  {
   "cell_type": "code",
   "execution_count": 26,
   "id": "incorporate-think",
   "metadata": {
    "ExecuteTime": {
     "end_time": "2021-04-05T02:53:42.482732Z",
     "start_time": "2021-04-05T02:53:42.477408Z"
    }
   },
   "outputs": [],
   "source": [
    "dataframe = tgp_df.copy()\n",
    "\n",
    "url = dataframe['link'][1]\n",
    "\n",
    "sentence_length = 1"
   ]
  },
  {
   "cell_type": "code",
   "execution_count": 27,
   "id": "developing-lying",
   "metadata": {
    "ExecuteTime": {
     "end_time": "2021-04-05T02:53:43.980817Z",
     "start_time": "2021-04-05T02:53:43.082882Z"
    },
    "code_folding": [
     0
    ]
   },
   "outputs": [
    {
     "name": "stdout",
     "output_type": "stream",
     "text": [
      "\n",
      "📰 Trump Trolls Democrats In LAUGH OUT LOUD Loud Easter Message\n",
      "\n",
      "🔑 SUMMARY: President Trump also released a separate message on Friday where he wished the American people a happy Easter while calling out voter fraud.\n",
      "\n",
      " #President #Easter #Former #Donald #Sunday\n",
      "\n",
      "🔗 https://trendingpolitics.com/trump-releases-laugh-out-loud-easter-message-trolls-democrats/?utm_source=rss&utm_medium=rss&utm_campaign=trump-releases-laugh-out-loud-easter-message-trolls-democrats\n",
      "            \n"
     ]
    }
   ],
   "source": [
    "# Get Summary \n",
    "\n",
    "article = Article(url)\n",
    "article.download()\n",
    "article.parse()\n",
    "article.nlp()\n",
    "\n",
    "article_title = article.title\n",
    "source_url = article.url\n",
    "article_text = article.text\n",
    "article_text_formatted = re.sub(r'\\s+', ' ', article_text)\n",
    "sentence_list = nltk.sent_tokenize(article_text_formatted)\n",
    "stopwords = nltk.corpus.stopwords.words('english')\n",
    "\n",
    "word_frequencies = {}\n",
    "for word in nltk.word_tokenize(article_text_formatted):\n",
    "    if len(word) >= 5:\n",
    "        if word not in stopwords:\n",
    "            if word not in word_frequencies.keys():\n",
    "                word_frequencies[word] = 1\n",
    "            else:\n",
    "                word_frequencies[word] += 1\n",
    "\n",
    "sorted_values = sorted(word_frequencies.values(),\n",
    "                       reverse=True)  # Sort the values\n",
    "sorted_dict = {}\n",
    "\n",
    "for i in sorted_values:\n",
    "    for k in word_frequencies.keys():\n",
    "        if word_frequencies[k] == i:\n",
    "            sorted_dict[k] = word_frequencies[k]\n",
    "            break\n",
    "\n",
    "sorted_list = list(sorted_dict.keys())\n",
    "\n",
    "maximum_freq = max(word_frequencies.values())\n",
    "\n",
    "for word in word_frequencies.keys():\n",
    "    word_frequencies[word] = (word_frequencies[word] / maximum_freq)\n",
    "\n",
    "sentence_scores = {}\n",
    "\n",
    "for sent in sentence_list:\n",
    "    for word in nltk.word_tokenize(sent.lower()):\n",
    "        if word in word_frequencies.keys():\n",
    "            if len(sent.split(' ')) < 30:\n",
    "                if sent not in sentence_scores.keys():\n",
    "                    sentence_scores[sent] = word_frequencies[word]\n",
    "                else:\n",
    "                    sentence_scores[sent] += word_frequencies[word]\n",
    "\n",
    "summary_sentences = heapq.nlargest(sentence_length, sentence_scores, key=sentence_scores.get)\n",
    "summary = ' '.join(summary_sentences)\n",
    "\n",
    "tag_list = []\n",
    "for w in sorted_list:\n",
    "    w = w.capitalize()\n",
    "    tag = ' #' + w\n",
    "    tag_list.append('{}'.format(tag))\n",
    "tags = ''.join(tag_list)\n",
    "\n",
    "\n",
    "if 'BREAKING' in article_title:\n",
    "    default_text = '''\n",
    "🚨 {}\n",
    "\n",
    "🔑 SUMMARY: {}\n",
    "\n",
    "{} {} {} {}\n",
    "\n",
    "🔗 {}\n",
    "            '''.format(article_title, summary, source_url)\n",
    "else:\n",
    "    default_text = '''\n",
    "📰 {}\n",
    "\n",
    "🔑 SUMMARY: {}\n",
    "\n",
    "{}\n",
    "\n",
    "🔗 {}\n",
    "            '''.format(article_title, summary, tags, source_url)\n",
    "\n",
    "pyperclip.copy(default_text)\n",
    "\n",
    "print(default_text)"
   ]
  },
  {
   "cell_type": "code",
   "execution_count": null,
   "id": "related-crazy",
   "metadata": {},
   "outputs": [],
   "source": []
  },
  {
   "cell_type": "code",
   "execution_count": null,
   "id": "rational-mission",
   "metadata": {},
   "outputs": [],
   "source": []
  },
  {
   "cell_type": "code",
   "execution_count": null,
   "id": "settled-squad",
   "metadata": {},
   "outputs": [],
   "source": []
  },
  {
   "cell_type": "code",
   "execution_count": null,
   "id": "color-providence",
   "metadata": {},
   "outputs": [],
   "source": []
  },
  {
   "cell_type": "code",
   "execution_count": null,
   "id": "german-retirement",
   "metadata": {},
   "outputs": [],
   "source": []
  },
  {
   "cell_type": "code",
   "execution_count": null,
   "id": "stylish-sapphire",
   "metadata": {},
   "outputs": [],
   "source": []
  },
  {
   "cell_type": "code",
   "execution_count": null,
   "id": "municipal-taxation",
   "metadata": {},
   "outputs": [],
   "source": []
  },
  {
   "cell_type": "code",
   "execution_count": null,
   "id": "tender-prefix",
   "metadata": {},
   "outputs": [],
   "source": []
  }
 ],
 "metadata": {
  "kernelspec": {
   "display_name": "Python 3",
   "language": "python",
   "name": "python3"
  },
  "language_info": {
   "codemirror_mode": {
    "name": "ipython",
    "version": 3
   },
   "file_extension": ".py",
   "mimetype": "text/x-python",
   "name": "python",
   "nbconvert_exporter": "python",
   "pygments_lexer": "ipython3",
   "version": "3.8.8"
  }
 },
 "nbformat": 4,
 "nbformat_minor": 5
}
