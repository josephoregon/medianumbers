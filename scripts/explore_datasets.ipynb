{
 "cells": [
  {
   "cell_type": "code",
   "execution_count": 4,
   "id": "statutory-amount",
   "metadata": {
    "ExecuteTime": {
     "end_time": "2021-04-05T18:40:23.219174Z",
     "start_time": "2021-04-05T18:40:23.215573Z"
    }
   },
   "outputs": [],
   "source": [
    "# Import Packages\n",
    "import streamlit as st\n",
    "import pyperclip\n",
    "import heapq\n",
    "import nltk\n",
    "import re\n",
    "\n",
    "from newspaper import Article"
   ]
  },
  {
   "cell_type": "code",
   "execution_count": 3,
   "id": "confident-williams",
   "metadata": {
    "ExecuteTime": {
     "end_time": "2021-04-05T18:39:59.745074Z",
     "start_time": "2021-04-05T18:39:59.689502Z"
    }
   },
   "outputs": [],
   "source": [
    "import pandas as pd\n",
    "df=pd.DataFrame(['Text to copy'])\n",
    "df.to_clipboard(index=False,header=False)"
   ]
  },
  {
   "cell_type": "code",
   "execution_count": null,
   "id": "isolated-stranger",
   "metadata": {},
   "outputs": [],
   "source": []
  },
  {
   "cell_type": "code",
   "execution_count": null,
   "id": "crude-witch",
   "metadata": {},
   "outputs": [],
   "source": []
  },
  {
   "cell_type": "code",
   "execution_count": null,
   "id": "going-mainstream",
   "metadata": {
    "ExecuteTime": {
     "end_time": "2021-04-04T00:21:16.773984Z",
     "start_time": "2021-04-04T00:21:16.478570Z"
    }
   },
   "outputs": [],
   "source": [
    "# Pull Article Information\n",
    "\n",
    "url = pyperclip.paste()"
   ]
  },
  {
   "cell_type": "code",
   "execution_count": null,
   "id": "rolled-suite",
   "metadata": {
    "ExecuteTime": {
     "end_time": "2021-04-04T06:58:17.738186Z",
     "start_time": "2021-04-04T06:58:17.242138Z"
    }
   },
   "outputs": [],
   "source": [
    "article = Article(url)\n",
    "article.download()\n",
    "article.parse()\n",
    "article.nlp()"
   ]
  },
  {
   "cell_type": "code",
   "execution_count": null,
   "id": "hollow-massage",
   "metadata": {
    "ExecuteTime": {
     "end_time": "2021-04-04T06:58:18.948782Z",
     "start_time": "2021-04-04T06:58:18.946297Z"
    }
   },
   "outputs": [],
   "source": [
    "article_title = article.title\n",
    "print(article_title)"
   ]
  },
  {
   "cell_type": "code",
   "execution_count": null,
   "id": "verbal-procurement",
   "metadata": {
    "ExecuteTime": {
     "end_time": "2021-04-04T07:39:52.002752Z",
     "start_time": "2021-04-04T07:39:51.998559Z"
    }
   },
   "outputs": [],
   "source": [
    "source_url = article.url\n",
    "print(source_url)"
   ]
  },
  {
   "cell_type": "code",
   "execution_count": null,
   "id": "driving-adams",
   "metadata": {
    "ExecuteTime": {
     "end_time": "2021-04-04T06:59:10.744943Z",
     "start_time": "2021-04-04T06:59:10.741893Z"
    }
   },
   "outputs": [],
   "source": [
    "article_summary = article.summary\n",
    "print(article_summary)"
   ]
  },
  {
   "cell_type": "code",
   "execution_count": null,
   "id": "naval-walker",
   "metadata": {
    "ExecuteTime": {
     "end_time": "2021-04-04T06:59:04.670678Z",
     "start_time": "2021-04-04T06:59:04.667932Z"
    }
   },
   "outputs": [],
   "source": [
    "# Removing Square Brackets and Extra Spaces\n",
    "article_text = re.sub(r'\\[[0-9]*\\]', ' ', article_summary)\n",
    "print(article_text)"
   ]
  },
  {
   "cell_type": "code",
   "execution_count": null,
   "id": "young-miller",
   "metadata": {
    "ExecuteTime": {
     "end_time": "2021-04-04T06:59:15.637597Z",
     "start_time": "2021-04-04T06:59:15.634517Z"
    }
   },
   "outputs": [],
   "source": [
    "article_text = re.sub(r'\\s+', ' ', article_summary)\n",
    "print(article_text)"
   ]
  },
  {
   "cell_type": "code",
   "execution_count": null,
   "id": "likely-living",
   "metadata": {
    "ExecuteTime": {
     "end_time": "2021-04-04T06:52:35.730563Z",
     "start_time": "2021-04-04T06:52:35.728290Z"
    }
   },
   "outputs": [],
   "source": [
    "# Removing special characters and digits\n",
    "#formatted_article_text = re.sub('[^a-zA-Z]', ' ', article_text)\n",
    "#print(formatted_article_text)"
   ]
  },
  {
   "cell_type": "code",
   "execution_count": null,
   "id": "maritime-primary",
   "metadata": {
    "ExecuteTime": {
     "end_time": "2021-04-04T06:52:52.716515Z",
     "start_time": "2021-04-04T06:52:52.714404Z"
    }
   },
   "outputs": [],
   "source": [
    "#formatted_article_text = re.sub(r'\\s+', ' ', formatted_article_text)\n",
    "#print(formatted_article_text)"
   ]
  },
  {
   "cell_type": "code",
   "execution_count": null,
   "id": "increased-hunter",
   "metadata": {
    "ExecuteTime": {
     "end_time": "2021-04-04T06:59:22.824514Z",
     "start_time": "2021-04-04T06:59:22.821032Z"
    }
   },
   "outputs": [],
   "source": [
    "sentence_list = nltk.sent_tokenize(article_text)\n",
    "print(sentence_list)"
   ]
  },
  {
   "cell_type": "code",
   "execution_count": null,
   "id": "fourth-intervention",
   "metadata": {
    "ExecuteTime": {
     "end_time": "2021-04-04T06:59:33.809143Z",
     "start_time": "2021-04-04T06:59:33.805330Z"
    }
   },
   "outputs": [],
   "source": [
    "len(sentence_list)"
   ]
  },
  {
   "cell_type": "code",
   "execution_count": null,
   "id": "fitted-means",
   "metadata": {
    "ExecuteTime": {
     "end_time": "2021-04-04T06:59:46.353889Z",
     "start_time": "2021-04-04T06:59:46.341393Z"
    }
   },
   "outputs": [],
   "source": [
    "stopwords = nltk.corpus.stopwords.words('english')\n",
    "print(stopwords)"
   ]
  },
  {
   "cell_type": "code",
   "execution_count": null,
   "id": "wanted-istanbul",
   "metadata": {
    "ExecuteTime": {
     "end_time": "2021-04-04T07:00:29.428507Z",
     "start_time": "2021-04-04T07:00:29.423873Z"
    }
   },
   "outputs": [],
   "source": [
    "word_frequencies = {}\n",
    "for word in nltk.word_tokenize(article_text):\n",
    "    if len(word) >= 7:\n",
    "        if word not in stopwords:\n",
    "            if word not in word_frequencies.keys():\n",
    "                word_frequencies[word] = 1\n",
    "            else:\n",
    "                word_frequencies[word] += 1\n",
    "                \n",
    "print(word_frequencies)"
   ]
  },
  {
   "cell_type": "code",
   "execution_count": null,
   "id": "hydraulic-tobacco",
   "metadata": {
    "ExecuteTime": {
     "end_time": "2021-04-04T07:00:37.407091Z",
     "start_time": "2021-04-04T07:00:37.404530Z"
    }
   },
   "outputs": [],
   "source": [
    "sorted_values = sorted(word_frequencies.values(), reverse=True)  # Sort the values\n",
    "\n",
    "print(sorted_values)"
   ]
  },
  {
   "cell_type": "code",
   "execution_count": null,
   "id": "pregnant-sphere",
   "metadata": {
    "ExecuteTime": {
     "end_time": "2021-04-04T07:00:41.789440Z",
     "start_time": "2021-04-04T07:00:41.785794Z"
    }
   },
   "outputs": [],
   "source": [
    "sorted_dict = {}\n",
    "\n",
    "for i in sorted_values:\n",
    "    for k in word_frequencies.keys():\n",
    "        if word_frequencies[k] == i:\n",
    "            sorted_dict[k] = word_frequencies[k]\n",
    "            break\n",
    "            \n",
    "print(sorted_dict)"
   ]
  },
  {
   "cell_type": "code",
   "execution_count": null,
   "id": "adjacent-condition",
   "metadata": {
    "ExecuteTime": {
     "end_time": "2021-04-04T07:00:49.428850Z",
     "start_time": "2021-04-04T07:00:49.426467Z"
    }
   },
   "outputs": [],
   "source": [
    "sorted_list = list(sorted_dict.keys())\n",
    "print(sorted_list)"
   ]
  },
  {
   "cell_type": "code",
   "execution_count": null,
   "id": "mounted-darwin",
   "metadata": {
    "ExecuteTime": {
     "end_time": "2021-04-04T07:00:53.569112Z",
     "start_time": "2021-04-04T07:00:53.566612Z"
    }
   },
   "outputs": [],
   "source": [
    "maximum_freq = max(word_frequencies.values())\n",
    "print(maximum_freq)"
   ]
  },
  {
   "cell_type": "code",
   "execution_count": null,
   "id": "vulnerable-start",
   "metadata": {
    "ExecuteTime": {
     "end_time": "2021-04-04T07:00:56.776250Z",
     "start_time": "2021-04-04T07:00:56.773617Z"
    }
   },
   "outputs": [],
   "source": [
    "for word in word_frequencies.keys():\n",
    "    word_frequencies[word] = (word_frequencies[word] / maximum_freq)\n",
    "    \n",
    "print(word_frequencies)"
   ]
  },
  {
   "cell_type": "code",
   "execution_count": null,
   "id": "hungry-provincial",
   "metadata": {
    "ExecuteTime": {
     "end_time": "2021-04-04T07:01:02.896363Z",
     "start_time": "2021-04-04T07:01:02.891960Z"
    }
   },
   "outputs": [],
   "source": [
    "sentence_scores = {}\n",
    "\n",
    "for sent in sentence_list:\n",
    "    for word in nltk.word_tokenize(sent.lower()):\n",
    "        if word in word_frequencies.keys():\n",
    "            if len(sent.split(' ')) < 30:\n",
    "                if sent not in sentence_scores.keys():\n",
    "                    sentence_scores[sent] = word_frequencies[word]\n",
    "                else:\n",
    "                    sentence_scores[sent] += word_frequencies[word]\n",
    "                    \n",
    "print(sentence_scores)"
   ]
  },
  {
   "cell_type": "code",
   "execution_count": null,
   "id": "heated-photography",
   "metadata": {
    "ExecuteTime": {
     "end_time": "2021-04-04T07:01:16.145813Z",
     "start_time": "2021-04-04T07:01:16.143154Z"
    }
   },
   "outputs": [],
   "source": [
    "summary_sentences = heapq.nlargest(7, sentence_scores, key=sentence_scores.get)\n",
    "\n",
    "print(sentence_scores)"
   ]
  },
  {
   "cell_type": "code",
   "execution_count": null,
   "id": "exact-bridges",
   "metadata": {
    "ExecuteTime": {
     "end_time": "2021-04-04T07:01:42.586863Z",
     "start_time": "2021-04-04T07:01:42.584474Z"
    }
   },
   "outputs": [],
   "source": [
    "summary = ' '.join(summary_sentences)\n",
    "\n",
    "print(summary)"
   ]
  },
  {
   "cell_type": "code",
   "execution_count": null,
   "id": "destroyed-field",
   "metadata": {
    "ExecuteTime": {
     "end_time": "2021-04-04T07:01:52.171201Z",
     "start_time": "2021-04-04T07:01:52.168006Z"
    }
   },
   "outputs": [],
   "source": [
    "if 'BREAKING' in article_title:\n",
    "    default_text = '''\n",
    "🚨 {}\n",
    "\n",
    "🔑 SUMMARY: {}\n",
    "\n",
    "🔗 {}\n",
    "            '''.format(article_title, summary, source_url)\n",
    "else:\n",
    "    default_text = '''\n",
    "📰 {}\n",
    "\n",
    "🔑 SUMMARY: {}\n",
    "\n",
    "🔗 {}\n",
    "            '''.format(article_title, summary, source_url)\n",
    "    \n",
    "print(default_text)"
   ]
  },
  {
   "cell_type": "code",
   "execution_count": null,
   "id": "uniform-chicken",
   "metadata": {},
   "outputs": [],
   "source": []
  },
  {
   "cell_type": "code",
   "execution_count": null,
   "id": "indoor-angola",
   "metadata": {},
   "outputs": [],
   "source": []
  },
  {
   "cell_type": "code",
   "execution_count": null,
   "id": "eleven-warehouse",
   "metadata": {},
   "outputs": [],
   "source": []
  },
  {
   "cell_type": "code",
   "execution_count": null,
   "id": "accessory-triangle",
   "metadata": {},
   "outputs": [],
   "source": []
  },
  {
   "cell_type": "markdown",
   "id": "functional-movement",
   "metadata": {},
   "source": [
    "<hr>\n",
    "<hr>\n",
    "<hr>\n",
    "<hr>\n",
    "<hr>\n",
    "<hr>"
   ]
  },
  {
   "cell_type": "code",
   "execution_count": 5,
   "id": "eight-gibson",
   "metadata": {
    "ExecuteTime": {
     "end_time": "2021-04-05T18:41:22.608755Z",
     "start_time": "2021-04-05T18:40:32.215141Z"
    },
    "scrolled": true
   },
   "outputs": [
    {
     "name": "stdout",
     "output_type": "stream",
     "text": [
      "/Users/josephrosas/PycharmProjects/media-numbers\n",
      "Downloading articles from cnn\n",
      "1 articles downloaded from cnn, url: http://rss.cnn.com/~r/rss/cnn_topstories/~3/YTkKaI0H22o/index.html\n",
      "2 articles downloaded from cnn, url: http://rss.cnn.com/~r/rss/cnn_topstories/~3/7TNeNF_jVkc/far-right-extremist-groups-shift-vaccine-misinformation-burghart-intv-nr-vpx.cnn\n",
      "3 articles downloaded from cnn, url: http://rss.cnn.com/~r/rss/cnn_topstories/~3/_FqBKjclf0U/index.html\n",
      "4 articles downloaded from cnn, url: http://rss.cnn.com/~r/rss/cnn_topstories/~3/Zmq85Qb5dsQ/index.html\n",
      "5 articles downloaded from cnn, url: http://rss.cnn.com/~r/rss/cnn_topstories/~3/oWUgrBlMvdM/pfizer-vaccine-protection-length-watt-dnt-tsr-vpx.cnn\n",
      "Downloading articles from nyt\n",
      "1 articles downloaded from nyt, url: https://www.nytimes.com/2021/04/05/us/politics/gayle-smith-covid-vaccine.html\n",
      "2 articles downloaded from nyt, url: https://www.nytimes.com/2021/04/05/us/politics/supreme-court-trump-twitter.html\n",
      "3 articles downloaded from nyt, url: https://www.nytimes.com/2021/04/05/us/politics/heres-what-we-know-about-the-man-behind-fridays-attack-on-capitol-hill.html\n",
      "4 articles downloaded from nyt, url: https://www.nytimes.com/2021/04/05/us/politics/supreme-court-religion.html\n",
      "5 articles downloaded from nyt, url: https://www.nytimes.com/2021/04/04/us/politics/guantanamo-bay-prisoners.html\n",
      "Downloading articles from politicus_usa\n",
      "1 articles downloaded from politicus_usa, url: https://www.politicususa.com/2021/04/05/raising-corporate-taxes-wont-slow-recovery.html?utm_source=rss&utm_medium=rss&utm_campaign=raising-corporate-taxes-wont-slow-recovery\n",
      "2 articles downloaded from politicus_usa, url: https://www.politicususa.com/2021/04/05/biden-republicans-infrastructure.html?utm_source=rss&utm_medium=rss&utm_campaign=biden-republicans-infrastructure\n",
      "3 articles downloaded from politicus_usa, url: https://www.politicususa.com/2021/04/05/half-of-republicans-delusional.html?utm_source=rss&utm_medium=rss&utm_campaign=half-of-republicans-delusional\n",
      "4 articles downloaded from politicus_usa, url: https://www.politicususa.com/2021/04/05/mitch-mcconnell-threatens-corporations.html?utm_source=rss&utm_medium=rss&utm_campaign=mitch-mcconnell-threatens-corporations\n",
      "5 articles downloaded from politicus_usa, url: https://www.politicususa.com/2021/04/05/yellen-to-call-for-global-minimum-tax-rate-to-raise-revenue-stop-companies-from-evading-taxes.html?utm_source=rss&utm_medium=rss&utm_campaign=yellen-to-call-for-global-minimum-tax-rate-to-raise-revenue-stop-companies-from-evading-taxes\n",
      "Downloading articles from fox\n",
      "1 articles downloaded from fox, url: http://feeds.foxnews.com/~r/foxnews/politics/~3/Tw3-7w7jiZc/hunter-biden-smoke-parmesan-cheese-resembled-crack\n",
      "2 articles downloaded from fox, url: http://feeds.foxnews.com/~r/foxnews/politics/~3/6h8IgYA1Urc/texas-abbott-first-pitch-mlb-georgia-voting-law\n",
      "3 articles downloaded from fox, url: http://feeds.foxnews.com/~r/foxnews/politics/~3/9pVOXkPU318/joe-biden-racial-rhetoric-fleischer-jim-crow-georgia\n",
      "4 articles downloaded from fox, url: http://feeds.foxnews.com/~r/foxnews/politics/~3/glpkzQAm5SA/bidens-energy-policies-dangerous-message-texas-george-p-bush\n",
      "5 articles downloaded from fox, url: http://feeds.foxnews.com/~r/foxnews/politics/~3/K4qr_GBaevU/gop-committee-to-elect-republican-state-officials-touts-record-haul\n",
      "Downloading articles from epoch\n",
      "1 articles downloaded from epoch, url: https://www.theepochtimes.com/former-gaetz-staffer-says-fbi-agents-approached-him-with-baseless-allegations_3762509.html\n",
      "2 articles downloaded from epoch, url: https://www.theepochtimes.com/shrinking-mortgage-market-could-cost-california-economy-2-3-billion-a-year_3762833.html\n",
      "3 articles downloaded from epoch, url: https://www.theepochtimes.com/utah-governor-signs-legislation-making-fathers-help-pay-with-pregnancy-costs_3762775.html\n",
      "4 articles downloaded from epoch, url: https://www.theepochtimes.com/gop-states-expand-school-choice-as-lockdowns-boost-alternatives_3762698.html\n",
      "5 articles downloaded from epoch, url: https://www.theepochtimes.com/overview-of-all-proposed-spending-in-bidens-infrastructure-plan_3762567.html\n",
      "Downloading articles from blaze\n",
      "1 articles downloaded from blaze, url: https://www.theblaze.com/news/video-restaurant-patrons-chant-get-out-at-officials-issuing-covid-19-closure-order-cheers-erupt-when-they-turn-tail-and-leave-canadian-eatery\n",
      "2 articles downloaded from blaze, url: https://www.theblaze.com/news/absolute-malarkey-60-minutes-airs-deceptively-edited-segment-accusing-gov-ron-desantis-of-corruption\n",
      "3 articles downloaded from blaze, url: https://www.theblaze.com/news/treasury-secretary-yellen-global-minimum-corporate-tax\n",
      "4 articles downloaded from blaze, url: https://www.theblaze.com/news/georgia-republicans-want-coca-cola-products-removed-from-their-offices-after-ceo-criticizes-new-voting-law\n",
      "5 articles downloaded from blaze, url: https://www.theblaze.com/news/bidens-easter-message-getting-the-covid-19-is-a-moral-obligation\n",
      "Downloading articles from tgp\n",
      "1 articles downloaded from tgp, url: https://trendingpolitics.com/justice-thomas-drops-the-hammer-on-big-tech-in-epic-defense-for-conservatives-in-america/?utm_source=rss&utm_medium=rss&utm_campaign=justice-thomas-drops-the-hammer-on-big-tech-in-epic-defense-for-conservatives-in-america\n",
      "2 articles downloaded from tgp, url: https://trendingpolitics.com/breaking-jewish-family-with-special-needs-child-gets-kicked-off-spirit-airlines-flight-because-2-year-old-was-eating-without-mask-on/?utm_source=rss&utm_medium=rss&utm_campaign=breaking-jewish-family-with-special-needs-child-gets-kicked-off-spirit-airlines-flight-because-2-year-old-was-eating-without-mask-on\n",
      "3 articles downloaded from tgp, url: https://trendingpolitics.com/desantis-60-minutes-takedown-knab/?utm_source=rss&utm_medium=rss&utm_campaign=desantis-60-minutes-takedown-knab\n",
      "4 articles downloaded from tgp, url: https://trendingpolitics.com/breaking-2nd-gop-governor-joins-floridas-ron-desantis-in-covid-passport-opposition-mississippis-tate-reeves-knab/?utm_source=rss&utm_medium=rss&utm_campaign=breaking-2nd-gop-governor-joins-floridas-ron-desantis-in-covid-passport-opposition-mississippis-tate-reeves-knab\n",
      "5 articles downloaded from tgp, url: https://trendingpolitics.com/breaking-news-scotus-rules-on-trumps-twitter-account-justice-thomas-fires-warning-shot-at-big-tech-knab/?utm_source=rss&utm_medium=rss&utm_campaign=breaking-news-scotus-rules-on-trumps-twitter-account-justice-thomas-fires-warning-shot-at-big-tech-knab\n",
      "Downloading articles from trend\n",
      "1 articles downloaded from trend, url: https://www.thegatewaypundit.com/2021/04/gotta-squeeze-jill-joe-biden-super-awkward-exchange-easter-bunny-video/\n",
      "2 articles downloaded from trend, url: https://www.thegatewaypundit.com/2021/04/family-kicked-off-spirit-airlines-flight-2-year-old-child-eating-wasnt-wearing-mask-video/\n",
      "3 articles downloaded from trend, url: https://www.thegatewaypundit.com/2021/04/smartest-guy-joe-biden-knows-hunter-biden-says-smoked-parmesan-cheese-mistaking-crack-video/\n",
      "4 articles downloaded from trend, url: https://www.thegatewaypundit.com/2021/04/city-council-raging-idiots-ignore-actual-facts-crime-policing-favor-radical-leftist-fantasy-portland-police-go-off-exit-interviews/\n",
      "5 articles downloaded from trend, url: https://www.thegatewaypundit.com/2021/04/big-media-spread-fears-fourth-wave-caused-double-mutant-covid-variant-found-us-video/\n",
      "Building site for cdm\n",
      "1 articles downloaded from cdm using newspaper, url: https://creativedestructionmedia.com/opinion/2021/04/05/the-great-reset-is-coming-all-right-but-its-not-what-you-think/\n",
      "2 articles downloaded from cdm using newspaper, url: https://creativedestructionmedia.com/analysis/2021/04/05/livestream-war-room-pandemic-10-12pm-est-m-s-5-6pm-est-m-f/\n",
      "3 articles downloaded from cdm using newspaper, url: https://creativedestructionmedia.com/news/europe/2021/04/05/russian-illegal-immigration-down-by-almost-half-in-2020/\n",
      "4 articles downloaded from cdm using newspaper, url: https://creativedestructionmedia.com/news/markets/2021/04/05/dollars-share-of-global-reserves-tumbles-to-lowest-since-1995-as-yuans-hits-all-time-high/\n",
      "5 articles downloaded from cdm using newspaper, url: https://creativedestructionmedia.com/news/europe/2021/04/04/salvini-hits-back-against-leftist-criticism-over-meeting-with-orban/\n"
     ]
    },
    {
     "name": "stdout",
     "output_type": "stream",
     "text": [
      "Downloading articles from fte\n",
      "1 articles downloaded from fte, url: https://fivethirtyeight.com/features/why-being-anti-media-is-now-part-of-the-gop-identity/\n",
      "2 articles downloaded from fte, url: https://fivethirtyeight.com/features/americans-oppose-many-voting-restrictions-but-not-voter-id-laws/\n",
      "3 articles downloaded from fte, url: https://fivethirtyeight.com/videos/the-2021-elections-that-will-show-us-where-the-parties-are-headed/\n",
      "4 articles downloaded from fte, url: https://fivethirtyeight.com/features/politics-podcast-elections-to-watch-in-2021/\n",
      "5 articles downloaded from fte, url: https://fivethirtyeight.com/features/why-the-recent-violence-against-asian-americans-may-solidify-their-support-of-democrats/\n",
      "Downloading articles from wayne\n",
      "1 articles downloaded from wayne, url: https://www.waynedupree.com/2021/04/family-mask-spirit-airlines/\n",
      "2 articles downloaded from wayne, url: https://www.waynedupree.com/2021/04/tilsi-fox-news-republican/\n",
      "3 articles downloaded from wayne, url: https://www.waynedupree.com/2021/04/scotus-save-nominee-process/\n",
      "4 articles downloaded from wayne, url: https://www.waynedupree.com/2021/04/clarence-thomas-social-media-case/\n",
      "5 articles downloaded from wayne, url: https://www.waynedupree.com/2021/04/jilljoe-easter-message-fixed/\n",
      "Downloading articles from tnr\n",
      "1 articles downloaded from tnr, url: https://www.nationalreview.com/corner/democratic-mayor-of-palm-beach-county-yeah-the-60-minutes-segment-is-a-lie/\n",
      "2 articles downloaded from tnr, url: https://www.nationalreview.com/corner/the-return-of-earmarks/\n",
      "3 articles downloaded from tnr, url: https://www.nationalreview.com/corner/boards-of-trustees-fiddle-while-their-schools-burn/\n",
      "4 articles downloaded from tnr, url: https://www.nationalreview.com/corner/joe-manchin-rejects-bidens-call-for-a-28-percent-corporate-tax-rate-but-still-wants-higher-taxes/\n",
      "5 articles downloaded from tnr, url: https://www.nationalreview.com/corner/wait-when-did-corporate-ceos-become-the-new-heroes-in-american-politics/\n",
      "Downloading articles from trs\n",
      "1 articles downloaded from trs, url: https://therightscoop.com/spirit-airlines-crewmember-removed-after-trying-to-force-a-family-off-plane-because-2-yr-old-daughter-wouldnt-wear-mask/\n",
      "2 articles downloaded from trs, url: https://therightscoop.com/publix-slams-60-minutes-report-as-absolutely-false-and-offensive/\n",
      "3 articles downloaded from trs, url: https://therightscoop.com/supreme-court-vindicates-trump-in-case-over-him-blocking-his-critics-on-twitter/\n",
      "4 articles downloaded from trs, url: https://therightscoop.com/former-state-democrat-who-runs-florida-emergency-mngmt-defends-desantis-says-cbs-60-minutes-piece-absolute-malarkey/\n",
      "5 articles downloaded from trs, url: https://therightscoop.com/must-watch-chris-christie-and-sarah-isgur-utterly-end-biden-dems-media-over-georgia-voting-law-with-facts-receipts/\n",
      "Downloading articles from rds\n",
      "1 articles downloaded from rds, url: https://redstate.com/brandon_morse/2021/04/05/morse-if-the-medias-attack-on-ron-desantis-seems-desperate-its-because-it-is-n355645\n",
      "2 articles downloaded from rds, url: https://redstate.com/jeffc/2021/04/05/the-beginning-of-the-black-exodus-from-the-republican-party-n355646\n",
      "3 articles downloaded from rds, url: https://redstate.com/bonchie/2021/04/05/u-s-grant-gave-money-to-the-wuhan-lab-to-enhance-coronaviruses-the-decision-wasnt-even-scrutinized-n355578\n",
      "4 articles downloaded from rds, url: https://redstate.com/brandon_morse/2021/04/05/morse-charles-barkley-defies-social-justice-narratives-on-race-n355610\n",
      "5 articles downloaded from rds, url: https://redstate.com/nick-arama/2021/04/05/that-crazy-admission-that-hunter-biden-made-on-cbs-n355573\n",
      "Downloading articles from hotair\n",
      "1 articles downloaded from hotair, url: https://hotair.com/archives/allahpundit/2021/04/05/joe-scarborough-open-damned-schools-already/\n",
      "2 articles downloaded from hotair, url: https://hotair.com/archives/jazz-shaw/2021/04/05/not-democrats-board-bidens-corporate-tax-hike-plan/\n",
      "3 articles downloaded from hotair, url: https://hotair.com/archives/ed-morrissey/2021/04/05/former-gaetz-aide-sure-look-like-media-cooking-narrative-gaetz/\n",
      "4 articles downloaded from hotair, url: https://hotair.com/archives/john-s-2/2021/04/05/alison-collins-sues-school-board-87-million/\n",
      "5 articles downloaded from hotair, url: https://hotair.com/archives/allahpundit/2021/04/05/mcconnell-mlbs-georgia-boycott-woke-corporations-risk-serious-consequences/\n"
     ]
    }
   ],
   "source": [
    "%cd '/Users/josephrosas/PycharmProjects/media-numbers'\n",
    "\n",
    "! python newsscraper.py NewsPapers.json"
   ]
  },
  {
   "cell_type": "code",
   "execution_count": 6,
   "id": "motivated-baseball",
   "metadata": {
    "ExecuteTime": {
     "end_time": "2021-04-05T18:41:22.668392Z",
     "start_time": "2021-04-05T18:41:22.611614Z"
    }
   },
   "outputs": [],
   "source": [
    "import json\n",
    "import jmespath\n",
    "import pandas as pd\n",
    "import pyperclip\n",
    "import heapq\n",
    "import nltk\n",
    "import re\n",
    "\n",
    "from glom import glom\n",
    "from ast import literal_eval\n",
    "from pandas import json_normalize\n",
    "from newspaper import Article\n",
    "\n",
    "\n",
    "def f2(json):\n",
    "    df = pd.DataFrame(json)\n",
    "    df = df.iloc[:, 2:].copy()\n",
    "    df = pd.concat([pd.DataFrame(json_normalize(x)) for x in df['articles']],\n",
    "                   ignore_index=True)\n",
    "    return df\n",
    "\n",
    "# Load json format data\n",
    "with open('scraped_articles.json', 'r') as f:\n",
    "    data = json.loads(f.read())\n",
    "\n",
    "recs = data['newspapers']"
   ]
  },
  {
   "cell_type": "code",
   "execution_count": 7,
   "id": "comfortable-arctic",
   "metadata": {
    "ExecuteTime": {
     "end_time": "2021-04-05T18:41:22.740438Z",
     "start_time": "2021-04-05T18:41:22.671449Z"
    },
    "scrolled": true
   },
   "outputs": [],
   "source": [
    "cnn_df = f2(recs['cnn']) # CNN\n",
    "fox_df = f2(recs['fox']) # Fox News\n",
    "trs_df = f2(recs['trs']) # The Right Scoop\n",
    "epoch_df = f2(recs['epoch']) # The Epoch Times\n",
    "blaze_df = f2(recs['blaze']) # BlazeTV\n",
    "tgp_df = f2(recs['tgp']) # The Gateway Pundit\n",
    "trend_df = f2(recs['trend']) # Trending Politics\n",
    "wayne_df = f2(recs['wayne']) # Wayne Dupree\n",
    "tnr_df = f2(recs['tnr']) # The National Review\n",
    "fte_df = f2(recs['fte']) # FiveThirtyEight\n",
    "hotair_df = f2(recs['hotair']) # Hot Air\n",
    "rds_df = f2(recs['rds']) # Red State\n",
    "nyt_df = f2(recs['nyt']) # Red State\n",
    "politicus_usa_df = f2(recs['politicus_usa']) # Red State\n",
    "\n",
    "#cdm_json = recs['cdm']\n",
    "#cdm_df = f2(cdm_json)"
   ]
  },
  {
   "cell_type": "code",
   "execution_count": 8,
   "id": "incorporate-think",
   "metadata": {
    "ExecuteTime": {
     "end_time": "2021-04-05T18:41:22.746267Z",
     "start_time": "2021-04-05T18:41:22.742936Z"
    }
   },
   "outputs": [],
   "source": [
    "dataframe = tgp_df.copy()\n",
    "\n",
    "url = dataframe['link'][0]\n",
    "\n",
    "sentence_length = 1"
   ]
  },
  {
   "cell_type": "code",
   "execution_count": 10,
   "id": "developing-lying",
   "metadata": {
    "ExecuteTime": {
     "end_time": "2021-04-05T18:42:13.137282Z",
     "start_time": "2021-04-05T18:42:12.618575Z"
    },
    "code_folding": []
   },
   "outputs": [
    {
     "name": "stdout",
     "output_type": "stream",
     "text": [
      "\n",
      "📰 Justice Thomas Drops The Hammer on Big Tech In Epic Defense For Conservatives in America\n",
      "\n",
      "🔑 SUMMARY: “Even if digital platforms are not close enough to common carriers, legislatures might still be able to treat digital platforms like places of public accommodation.\n",
      "\n",
      " #Platforms #Public #Thomas #Accommodation #Common #Twitter #First #Places #Supreme\n",
      "\n",
      "🔗 https://trendingpolitics.com/justice-thomas-drops-the-hammer-on-big-tech-in-epic-defense-for-conservatives-in-america/?utm_source=rss&utm_medium=rss&utm_campaign=justice-thomas-drops-the-hammer-on-big-tech-in-epic-defense-for-conservatives-in-america\n",
      "            \n"
     ]
    }
   ],
   "source": [
    "# Get Summary \n",
    "\n",
    "article = Article(url)\n",
    "article.download()\n",
    "article.parse()\n",
    "article.nlp()\n",
    "\n",
    "article_title = article.title\n",
    "source_url = article.url\n",
    "article_text = article.text\n",
    "article_text_formatted = re.sub(r'\\s+', ' ', article_text)\n",
    "sentence_list = nltk.sent_tokenize(article_text_formatted)\n",
    "stopwords = nltk.corpus.stopwords.words('english')\n",
    "\n",
    "word_frequencies = {}\n",
    "for word in nltk.word_tokenize(article_text_formatted):\n",
    "    if len(word) >= 5:\n",
    "        if word not in stopwords:\n",
    "            if word not in word_frequencies.keys():\n",
    "                word_frequencies[word] = 1\n",
    "            else:\n",
    "                word_frequencies[word] += 1\n",
    "\n",
    "sorted_values = sorted(word_frequencies.values(),\n",
    "                       reverse=True)  # Sort the values\n",
    "sorted_dict = {}\n",
    "\n",
    "for i in sorted_values:\n",
    "    for k in word_frequencies.keys():\n",
    "        if word_frequencies[k] == i:\n",
    "            sorted_dict[k] = word_frequencies[k]\n",
    "            break\n",
    "\n",
    "sorted_list = list(sorted_dict.keys())\n",
    "\n",
    "maximum_freq = max(word_frequencies.values())\n",
    "\n",
    "for word in word_frequencies.keys():\n",
    "    word_frequencies[word] = (word_frequencies[word] / maximum_freq)\n",
    "\n",
    "sentence_scores = {}\n",
    "\n",
    "for sent in sentence_list:\n",
    "    for word in nltk.word_tokenize(sent.lower()):\n",
    "        if word in word_frequencies.keys():\n",
    "            if len(sent.split(' ')) < 30:\n",
    "                if sent not in sentence_scores.keys():\n",
    "                    sentence_scores[sent] = word_frequencies[word]\n",
    "                else:\n",
    "                    sentence_scores[sent] += word_frequencies[word]\n",
    "\n",
    "summary_sentences = heapq.nlargest(sentence_length, sentence_scores, key=sentence_scores.get)\n",
    "summary = ' '.join(summary_sentences)\n",
    "\n",
    "tag_list = []\n",
    "for w in sorted_list:\n",
    "    w = w.capitalize()\n",
    "    tag = ' #' + w\n",
    "    tag_list.append('{}'.format(tag))\n",
    "tags = ''.join(tag_list)\n",
    "\n",
    "\n",
    "if 'BREAKING' in article_title:\n",
    "    default_text = '''\n",
    "🚨 {}\n",
    "\n",
    "🔑 SUMMARY: {}\n",
    "\n",
    "{} {} {} {}\n",
    "\n",
    "🔗 {}\n",
    "            '''.format(article_title, summary, source_url)\n",
    "else:\n",
    "    default_text = '''\n",
    "📰 {}\n",
    "\n",
    "🔑 SUMMARY: {}\n",
    "\n",
    "{}\n",
    "\n",
    "🔗 {}\n",
    "            '''.format(article_title, summary, tags, source_url)\n",
    "\n",
    "#pyperclip.copy(default_text)\n",
    "import pandas as pd\n",
    "df=pd.DataFrame([default_text])\n",
    "df.to_clipboard(index=False,header=False)\n",
    "\n",
    "print(default_text)"
   ]
  },
  {
   "cell_type": "code",
   "execution_count": null,
   "id": "rational-mission",
   "metadata": {},
   "outputs": [],
   "source": [
    "\n",
    "📰 Justice Thomas Drops The Hammer on Big Tech In Epic Defense For Conservatives in America\n",
    "\n",
    "🔑 SUMMARY: “Even if digital platforms are not close enough to common carriers, legislatures might still be able to treat digital platforms like places of public accommodation.\n",
    "\n",
    " #Platforms #Public #Thomas #Accommodation #Common #Twitter #First #Places #Supreme\n",
    "\n",
    "🔗 https://trendingpolitics.com/justice-thomas-drops-the-hammer-on-big-tech-in-epic-defense-for-conservatives-in-america/?utm_source=rss&utm_medium=rss&utm_campaign=justice-thomas-drops-the-hammer-on-big-tech-in-epic-defense-for-conservatives-in-america"
   ]
  },
  {
   "cell_type": "code",
   "execution_count": 11,
   "id": "settled-squad",
   "metadata": {
    "ExecuteTime": {
     "end_time": "2021-04-05T18:51:44.591422Z",
     "start_time": "2021-04-05T18:51:44.584162Z"
    }
   },
   "outputs": [],
   "source": [
    "import pyp3rclip"
   ]
  },
  {
   "cell_type": "code",
   "execution_count": 12,
   "id": "color-providence",
   "metadata": {
    "ExecuteTime": {
     "end_time": "2021-04-05T18:53:06.003111Z",
     "start_time": "2021-04-05T18:53:05.964289Z"
    }
   },
   "outputs": [],
   "source": [
    "pyp3rclip.copy('The text to be copied to the clipboard.')"
   ]
  },
  {
   "cell_type": "code",
   "execution_count": 14,
   "id": "german-retirement",
   "metadata": {
    "ExecuteTime": {
     "end_time": "2021-04-05T18:53:15.512191Z",
     "start_time": "2021-04-05T18:53:15.472436Z"
    },
    "scrolled": true
   },
   "outputs": [
    {
     "data": {
      "text/plain": [
       "'https://www.theepochtimes.com/supreme-court-throws-out-lawsuit-over-trump-blocking-critics-on-twitter_3762613.html'"
      ]
     },
     "execution_count": 14,
     "metadata": {},
     "output_type": "execute_result"
    }
   ],
   "source": []
  },
  {
   "cell_type": "code",
   "execution_count": null,
   "id": "stylish-sapphire",
   "metadata": {},
   "outputs": [],
   "source": []
  },
  {
   "cell_type": "code",
   "execution_count": null,
   "id": "municipal-taxation",
   "metadata": {},
   "outputs": [],
   "source": []
  },
  {
   "cell_type": "code",
   "execution_count": null,
   "id": "tender-prefix",
   "metadata": {},
   "outputs": [],
   "source": []
  }
 ],
 "metadata": {
  "kernelspec": {
   "display_name": "Python 3",
   "language": "python",
   "name": "python3"
  },
  "language_info": {
   "codemirror_mode": {
    "name": "ipython",
    "version": 3
   },
   "file_extension": ".py",
   "mimetype": "text/x-python",
   "name": "python",
   "nbconvert_exporter": "python",
   "pygments_lexer": "ipython3",
   "version": "3.8.8"
  }
 },
 "nbformat": 4,
 "nbformat_minor": 5
}
